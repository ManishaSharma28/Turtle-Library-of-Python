{
 "cells": [
  {
   "cell_type": "markdown",
   "id": "b57c8be8",
   "metadata": {},
   "source": [
    "# Drow a triangle"
   ]
  },
  {
   "cell_type": "code",
   "execution_count": 1,
   "id": "c9759620",
   "metadata": {},
   "outputs": [],
   "source": [
    "import turtle\n",
    "turtle.shape(\"turtle\")\n",
    "\n",
    "for i in range(0,3):\n",
    "    turtle.forward(100)\n",
    "    turtle.right(120)\n",
    "\n",
    "turtle.exitonclick()\n"
   ]
  },
  {
   "cell_type": "markdown",
   "id": "7a98da48",
   "metadata": {},
   "source": [
    "# Drow a circle"
   ]
  },
  {
   "cell_type": "code",
   "execution_count": 2,
   "id": "423fb273",
   "metadata": {},
   "outputs": [],
   "source": [
    "# for i in range(0,360):\n",
    "#     turtle.forward(1)\n",
    "#     turtle.right(1)\n",
    "\n",
    "# turtle.exitonclick()"
   ]
  },
  {
   "cell_type": "markdown",
   "id": "ed782419",
   "metadata": {},
   "source": [
    "# Draw three squares in a row with a gap between each. Fill them using three different colours."
   ]
  },
  {
   "cell_type": "code",
   "execution_count": 3,
   "id": "437c7109",
   "metadata": {},
   "outputs": [],
   "source": [
    "# import turtle\n",
    "# turtle.shape(\"turtle\")\n",
    "# turtle.color(\"black\",\"red\")\n",
    "# turtle.begin_fill()\n",
    "# for i in range(0,4):\n",
    "#     turtle.forward(70)\n",
    "#     turtle.right(90)\n",
    "# turtle.penup()\n",
    "# turtle.end_fill()\n",
    "# turtle.forward(100)\n",
    "\n",
    "# turtle.pendown()\n",
    "# turtle.color(\"black\",\"yellow\")\n",
    "# turtle.begin_fill()\n",
    "# for i in range(0,4):\n",
    "#     turtle.forward(70)\n",
    "#     turtle.right(90)\n",
    "# turtle.penup()\n",
    "# turtle.end_fill()\n",
    "# turtle.forward(100)\n",
    "\n",
    "# turtle.pendown()\n",
    "# turtle.color(\"black\",\"green\")\n",
    "# turtle.begin_fill()\n",
    "# for i in range(0,4):\n",
    "#     turtle.forward(70)\n",
    "#     turtle.right(90)\n",
    "# turtle.end_fill()\n",
    "\n",
    "# turtle.exitonclick()"
   ]
  },
  {
   "cell_type": "markdown",
   "id": "363c8ed5",
   "metadata": {},
   "source": [
    "# Draw a five-pointed star."
   ]
  },
  {
   "cell_type": "code",
   "execution_count": 4,
   "id": "e53b0e6c",
   "metadata": {},
   "outputs": [],
   "source": [
    "# import turtle\n",
    "# turtle.shape(\"triangle\")\n",
    "# for i in range(0,5):\n",
    "#     turtle.forward(100)\n",
    "#     turtle.right(144)\n",
    "\n",
    "# turtle.exitonclick()"
   ]
  },
  {
   "cell_type": "markdown",
   "id": "a9b6da29",
   "metadata": {},
   "source": [
    "# Write the numbers as shown below, starting at the bottom of the number one. \n",
    "1 2 3"
   ]
  },
  {
   "cell_type": "code",
   "execution_count": 5,
   "id": "c57eb464",
   "metadata": {},
   "outputs": [],
   "source": [
    "# import turtle\n",
    "\n",
    "# turtle.left(90)\n",
    "# turtle.forward(100)\n",
    "# turtle.right(90)\n",
    "# turtle.penup()\n",
    "# turtle.forward(50)\n",
    "# turtle.pendown()\n",
    "# turtle.forward(75)\n",
    "# turtle.right(90)\n",
    "# turtle.forward(50)\n",
    "# turtle.right(90)\n",
    "# turtle.forward(75)\n",
    "# turtle.left(90)\n",
    "# turtle.forward(50)\n",
    "# turtle.left(90)\n",
    "# turtle.forward(75)\n",
    "# turtle.penup()\n",
    "# turtle.forward(50)\n",
    "# turtle.pendown()\n",
    "# turtle.forward(75)\n",
    "# turtle.left(90)\n",
    "# turtle.forward(50)\n",
    "# turtle.left(90)\n",
    "# turtle.forward(45)\n",
    "# turtle.left(180)\n",
    "# turtle.forward(45)\n",
    "# turtle.left(90)\n",
    "# turtle.forward(50)\n",
    "# turtle.left(90)\n",
    "# turtle.forward(75)\n",
    "\n",
    "# turtle.hideturtle()\n",
    "\n",
    "# turtle.exitonclick()"
   ]
  },
  {
   "cell_type": "markdown",
   "id": "555bb0a1",
   "metadata": {},
   "source": [
    "# Draw an octagon that uses a different colour (randomly selected from a list of six possible colours) for each line. "
   ]
  },
  {
   "cell_type": "code",
   "execution_count": 6,
   "id": "aaaa202f",
   "metadata": {},
   "outputs": [],
   "source": [
    "# import turtle\n",
    "# import random\n",
    "\n",
    "# turtle.pensize(3)\n",
    "# for i in range(0,8):\n",
    "#     turtle.color(random.choice([\"red\",\"pink\",\"orange\",\"yellow\",\"black\",\"blue\"]))\n",
    "#     turtle.forward(50)\n",
    "#     turtle.right(45)\n",
    "    \n",
    "# turtle.exitonclick()\n"
   ]
  },
  {
   "cell_type": "markdown",
   "id": "8ef28fb1",
   "metadata": {},
   "source": [
    "# Create the  pattern:"
   ]
  },
  {
   "cell_type": "code",
   "execution_count": 7,
   "id": "d1aaf264",
   "metadata": {},
   "outputs": [],
   "source": [
    "# import turtle\n",
    "# import random\n",
    "\n",
    "# for x in range(0,10):\n",
    "#     for i in range(0,8):\n",
    "#         turtle.forward(50)\n",
    "#         turtle.right(45)\n",
    "#     turtle.right(36)\n",
    "\n",
    "# turtle.hideturtle()\n",
    "# turtle.exitonclick()"
   ]
  },
  {
   "cell_type": "markdown",
   "id": "f6a093f5",
   "metadata": {},
   "source": [
    "# Draw a pattern that will change each time the program is run. Use the random function to pick the number of lines, the length of each line and the angle of each turn."
   ]
  },
  {
   "cell_type": "code",
   "execution_count": 8,
   "id": "5a3b19a2",
   "metadata": {},
   "outputs": [],
   "source": [
    "# import turtle\n",
    "# import random\n",
    "\n",
    "# lines = random.randint(5,20)\n",
    "\n",
    "# for x in range(0, lines):\n",
    "#     length = random.randint(25, 100)\n",
    "#     rotate = random.randint(1, 365)\n",
    "#     turtle.forward(length)\n",
    "#     turtle.right(rotate)\n",
    "\n",
    "# turtle.exitonclick()"
   ]
  },
  {
   "cell_type": "code",
   "execution_count": null,
   "id": "5c59766d",
   "metadata": {},
   "outputs": [],
   "source": []
  }
 ],
 "metadata": {
  "kernelspec": {
   "display_name": "Python 3 (ipykernel)",
   "language": "python",
   "name": "python3"
  },
  "language_info": {
   "codemirror_mode": {
    "name": "ipython",
    "version": 3
   },
   "file_extension": ".py",
   "mimetype": "text/x-python",
   "name": "python",
   "nbconvert_exporter": "python",
   "pygments_lexer": "ipython3",
   "version": "3.11.5"
  }
 },
 "nbformat": 4,
 "nbformat_minor": 5
}
